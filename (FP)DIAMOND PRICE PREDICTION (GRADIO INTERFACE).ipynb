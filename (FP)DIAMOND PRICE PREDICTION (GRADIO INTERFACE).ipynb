{
 "cells": [
  {
   "cell_type": "markdown",
   "id": "87b727ec-8eb9-4cfe-a665-ff3bd86c1bf6",
   "metadata": {},
   "source": [
    "# DIAMOND PRICE PREDICTION"
   ]
  },
  {
   "cell_type": "code",
   "execution_count": null,
   "id": "1ea4e8ba-5059-40b9-bd00-1940d852b7d2",
   "metadata": {},
   "outputs": [],
   "source": []
  },
  {
   "cell_type": "code",
   "execution_count": null,
   "id": "4c3d62b3-cc11-48da-81c5-89b671d7b3fa",
   "metadata": {},
   "outputs": [],
   "source": []
  },
  {
   "cell_type": "markdown",
   "id": "b13f4606-2197-40c7-a14f-f2d73c377297",
   "metadata": {},
   "source": [
    "## Price of a diamond is determined using some characteristics\n",
    "\n",
    "### # Carat - weight of diamond 0.100cts = 1carat = 200mg.\n",
    "### # Clarity - inclusion and blemishes(scratches/air bubbles) in a diamond lesser scraches = higher quality = higher price\n",
    "### # Color - color of diamond (D-E-F (High Quality), X-Y-Z (Poor Quality)) beyond Z color grade is considered as fancy color diamond.\n",
    "### # Depth - depth of diamond from table - culet\n",
    "### # Table - diameter of the table facet (top) \n",
    "### # x, y, z - dimensions of diamond"
   ]
  },
  {
   "cell_type": "markdown",
   "id": "1b00ad38-9407-444f-9ceb-9cd56cb4e15d",
   "metadata": {},
   "source": [
    "#"
   ]
  },
  {
   "cell_type": "markdown",
   "id": "d9783118-01d8-4f7a-96ae-346cc188dce6",
   "metadata": {},
   "source": [
    "## TRAINING AND TESTING OF DATASET USING REGRESSION ALGORITHMS\n",
    "### # Linear Regreesion Algorithm\n",
    "### # Decision Tree Regressor Algorithm\n",
    "### # Random Forest Regressor Algorithm\n",
    "### # K-Nearest Neighbor Algorithm\n",
    "### # SVR Algorithm\n",
    "### # Adaboost Algorithm\n",
    "### # Gradient Algorithm"
   ]
  },
  {
   "cell_type": "code",
   "execution_count": 1,
   "id": "2deeac41-1f93-441d-b7c5-98def3ae9d7e",
   "metadata": {},
   "outputs": [],
   "source": [
    "import pandas as pd # importing necessary modules\n",
    "from sklearn.metrics import mean_squared_error, mean_absolute_error"
   ]
  },
  {
   "cell_type": "code",
   "execution_count": 3,
   "id": "be9727d7-58d3-49cc-9518-3602aa456977",
   "metadata": {},
   "outputs": [],
   "source": [
    "# to ignore warning\n",
    "import os \n",
    "import warnings\n",
    "\n",
    "# Set environment variable\n",
    "os.environ['OMP_NUM_THREADS'] = '1'\n",
    "\n",
    "# Suppress Warnings\n",
    "warnings.filterwarnings('ignore')"
   ]
  },
  {
   "cell_type": "code",
   "execution_count": 5,
   "id": "58285c2d-b8ba-4826-b40d-2fd098e8d2d2",
   "metadata": {},
   "outputs": [
    {
     "data": {
      "text/html": [
       "<div>\n",
       "<style scoped>\n",
       "    .dataframe tbody tr th:only-of-type {\n",
       "        vertical-align: middle;\n",
       "    }\n",
       "\n",
       "    .dataframe tbody tr th {\n",
       "        vertical-align: top;\n",
       "    }\n",
       "\n",
       "    .dataframe thead th {\n",
       "        text-align: right;\n",
       "    }\n",
       "</style>\n",
       "<table border=\"1\" class=\"dataframe\">\n",
       "  <thead>\n",
       "    <tr style=\"text-align: right;\">\n",
       "      <th></th>\n",
       "      <th>Unnamed: 0</th>\n",
       "      <th>carat</th>\n",
       "      <th>cut</th>\n",
       "      <th>color</th>\n",
       "      <th>clarity</th>\n",
       "      <th>depth</th>\n",
       "      <th>table</th>\n",
       "      <th>price</th>\n",
       "      <th>x</th>\n",
       "      <th>y</th>\n",
       "      <th>z</th>\n",
       "    </tr>\n",
       "  </thead>\n",
       "  <tbody>\n",
       "    <tr>\n",
       "      <th>0</th>\n",
       "      <td>1</td>\n",
       "      <td>0.23</td>\n",
       "      <td>Ideal</td>\n",
       "      <td>E</td>\n",
       "      <td>SI2</td>\n",
       "      <td>61.5</td>\n",
       "      <td>55.0</td>\n",
       "      <td>326</td>\n",
       "      <td>3.95</td>\n",
       "      <td>3.98</td>\n",
       "      <td>2.43</td>\n",
       "    </tr>\n",
       "    <tr>\n",
       "      <th>1</th>\n",
       "      <td>2</td>\n",
       "      <td>0.21</td>\n",
       "      <td>Premium</td>\n",
       "      <td>E</td>\n",
       "      <td>SI1</td>\n",
       "      <td>59.8</td>\n",
       "      <td>61.0</td>\n",
       "      <td>326</td>\n",
       "      <td>3.89</td>\n",
       "      <td>3.84</td>\n",
       "      <td>2.31</td>\n",
       "    </tr>\n",
       "    <tr>\n",
       "      <th>2</th>\n",
       "      <td>3</td>\n",
       "      <td>0.23</td>\n",
       "      <td>Good</td>\n",
       "      <td>E</td>\n",
       "      <td>VS1</td>\n",
       "      <td>56.9</td>\n",
       "      <td>65.0</td>\n",
       "      <td>327</td>\n",
       "      <td>4.05</td>\n",
       "      <td>4.07</td>\n",
       "      <td>2.31</td>\n",
       "    </tr>\n",
       "    <tr>\n",
       "      <th>3</th>\n",
       "      <td>4</td>\n",
       "      <td>0.29</td>\n",
       "      <td>Premium</td>\n",
       "      <td>I</td>\n",
       "      <td>VS2</td>\n",
       "      <td>62.4</td>\n",
       "      <td>58.0</td>\n",
       "      <td>334</td>\n",
       "      <td>4.20</td>\n",
       "      <td>4.23</td>\n",
       "      <td>2.63</td>\n",
       "    </tr>\n",
       "    <tr>\n",
       "      <th>4</th>\n",
       "      <td>5</td>\n",
       "      <td>0.31</td>\n",
       "      <td>Good</td>\n",
       "      <td>J</td>\n",
       "      <td>SI2</td>\n",
       "      <td>63.3</td>\n",
       "      <td>58.0</td>\n",
       "      <td>335</td>\n",
       "      <td>4.34</td>\n",
       "      <td>4.35</td>\n",
       "      <td>2.75</td>\n",
       "    </tr>\n",
       "    <tr>\n",
       "      <th>...</th>\n",
       "      <td>...</td>\n",
       "      <td>...</td>\n",
       "      <td>...</td>\n",
       "      <td>...</td>\n",
       "      <td>...</td>\n",
       "      <td>...</td>\n",
       "      <td>...</td>\n",
       "      <td>...</td>\n",
       "      <td>...</td>\n",
       "      <td>...</td>\n",
       "      <td>...</td>\n",
       "    </tr>\n",
       "    <tr>\n",
       "      <th>53935</th>\n",
       "      <td>53936</td>\n",
       "      <td>0.72</td>\n",
       "      <td>Ideal</td>\n",
       "      <td>D</td>\n",
       "      <td>SI1</td>\n",
       "      <td>60.8</td>\n",
       "      <td>57.0</td>\n",
       "      <td>2757</td>\n",
       "      <td>5.75</td>\n",
       "      <td>5.76</td>\n",
       "      <td>3.50</td>\n",
       "    </tr>\n",
       "    <tr>\n",
       "      <th>53936</th>\n",
       "      <td>53937</td>\n",
       "      <td>0.72</td>\n",
       "      <td>Good</td>\n",
       "      <td>D</td>\n",
       "      <td>SI1</td>\n",
       "      <td>63.1</td>\n",
       "      <td>55.0</td>\n",
       "      <td>2757</td>\n",
       "      <td>5.69</td>\n",
       "      <td>5.75</td>\n",
       "      <td>3.61</td>\n",
       "    </tr>\n",
       "    <tr>\n",
       "      <th>53937</th>\n",
       "      <td>53938</td>\n",
       "      <td>0.70</td>\n",
       "      <td>Very Good</td>\n",
       "      <td>D</td>\n",
       "      <td>SI1</td>\n",
       "      <td>62.8</td>\n",
       "      <td>60.0</td>\n",
       "      <td>2757</td>\n",
       "      <td>5.66</td>\n",
       "      <td>5.68</td>\n",
       "      <td>3.56</td>\n",
       "    </tr>\n",
       "    <tr>\n",
       "      <th>53938</th>\n",
       "      <td>53939</td>\n",
       "      <td>0.86</td>\n",
       "      <td>Premium</td>\n",
       "      <td>H</td>\n",
       "      <td>SI2</td>\n",
       "      <td>61.0</td>\n",
       "      <td>58.0</td>\n",
       "      <td>2757</td>\n",
       "      <td>6.15</td>\n",
       "      <td>6.12</td>\n",
       "      <td>3.74</td>\n",
       "    </tr>\n",
       "    <tr>\n",
       "      <th>53939</th>\n",
       "      <td>53940</td>\n",
       "      <td>0.75</td>\n",
       "      <td>Ideal</td>\n",
       "      <td>D</td>\n",
       "      <td>SI2</td>\n",
       "      <td>62.2</td>\n",
       "      <td>55.0</td>\n",
       "      <td>2757</td>\n",
       "      <td>5.83</td>\n",
       "      <td>5.87</td>\n",
       "      <td>3.64</td>\n",
       "    </tr>\n",
       "  </tbody>\n",
       "</table>\n",
       "<p>53940 rows × 11 columns</p>\n",
       "</div>"
      ],
      "text/plain": [
       "       Unnamed: 0  carat        cut color clarity  depth  table  price     x  \\\n",
       "0               1   0.23      Ideal     E     SI2   61.5   55.0    326  3.95   \n",
       "1               2   0.21    Premium     E     SI1   59.8   61.0    326  3.89   \n",
       "2               3   0.23       Good     E     VS1   56.9   65.0    327  4.05   \n",
       "3               4   0.29    Premium     I     VS2   62.4   58.0    334  4.20   \n",
       "4               5   0.31       Good     J     SI2   63.3   58.0    335  4.34   \n",
       "...           ...    ...        ...   ...     ...    ...    ...    ...   ...   \n",
       "53935       53936   0.72      Ideal     D     SI1   60.8   57.0   2757  5.75   \n",
       "53936       53937   0.72       Good     D     SI1   63.1   55.0   2757  5.69   \n",
       "53937       53938   0.70  Very Good     D     SI1   62.8   60.0   2757  5.66   \n",
       "53938       53939   0.86    Premium     H     SI2   61.0   58.0   2757  6.15   \n",
       "53939       53940   0.75      Ideal     D     SI2   62.2   55.0   2757  5.83   \n",
       "\n",
       "          y     z  \n",
       "0      3.98  2.43  \n",
       "1      3.84  2.31  \n",
       "2      4.07  2.31  \n",
       "3      4.23  2.63  \n",
       "4      4.35  2.75  \n",
       "...     ...   ...  \n",
       "53935  5.76  3.50  \n",
       "53936  5.75  3.61  \n",
       "53937  5.68  3.56  \n",
       "53938  6.12  3.74  \n",
       "53939  5.87  3.64  \n",
       "\n",
       "[53940 rows x 11 columns]"
      ]
     },
     "execution_count": 5,
     "metadata": {},
     "output_type": "execute_result"
    }
   ],
   "source": [
    "# loading data\n",
    "diam = pd.read_csv(\"diamonds.csv\")\n",
    "diam"
   ]
  },
  {
   "cell_type": "code",
   "execution_count": 7,
   "id": "45574587-a50e-4d2a-a19b-b3576e160a5f",
   "metadata": {},
   "outputs": [
    {
     "data": {
      "text/plain": [
       "cut\n",
       "Ideal        21551\n",
       "Premium      13791\n",
       "Very Good    12082\n",
       "Good          4906\n",
       "Fair          1610\n",
       "Name: count, dtype: int64"
      ]
     },
     "execution_count": 7,
     "metadata": {},
     "output_type": "execute_result"
    }
   ],
   "source": [
    "diam.cut.value_counts() # types of cut grade"
   ]
  },
  {
   "cell_type": "code",
   "execution_count": 13,
   "id": "d6a5101c-6b16-47b3-a209-5b3d55bbe068",
   "metadata": {},
   "outputs": [
    {
     "data": {
      "text/plain": [
       "cut\n",
       "Ideal        21551\n",
       "Premium      13791\n",
       "Very Good    12082\n",
       "Good          4906\n",
       "Fair          1610\n",
       "Name: count, dtype: int64"
      ]
     },
     "execution_count": 13,
     "metadata": {},
     "output_type": "execute_result"
    }
   ],
   "source": [
    "diam_data.cut.value_counts() \n",
    "# CUT GRADE\n",
    "# 0 - Fair          \n",
    "# 1 - Good          \n",
    "# 2 - Ideal\n",
    "# 3 - Premium\n",
    "# 4 - Very Good"
   ]
  },
  {
   "cell_type": "code",
   "execution_count": 15,
   "id": "eecf66c7-a074-48f2-a77f-6f127dc733d1",
   "metadata": {},
   "outputs": [
    {
     "data": {
      "text/plain": [
       "color\n",
       "G    11292\n",
       "E     9797\n",
       "F     9542\n",
       "H     8304\n",
       "D     6775\n",
       "I     5422\n",
       "J     2808\n",
       "Name: count, dtype: int64"
      ]
     },
     "execution_count": 15,
     "metadata": {},
     "output_type": "execute_result"
    }
   ],
   "source": [
    "diam.color.value_counts() # types of color grade"
   ]
  },
  {
   "cell_type": "code",
   "execution_count": 11,
   "id": "1d51999a-1540-4eab-88cc-c13ae81ea8d0",
   "metadata": {},
   "outputs": [
    {
     "data": {
      "text/plain": [
       "color\n",
       "G    11292\n",
       "E     9797\n",
       "F     9542\n",
       "H     8304\n",
       "D     6775\n",
       "I     5422\n",
       "J     2808\n",
       "Name: count, dtype: int64"
      ]
     },
     "execution_count": 11,
     "metadata": {},
     "output_type": "execute_result"
    }
   ],
   "source": [
    "diam_data.color.value_counts()\n",
    "# COLOR GRADE\n",
    "# 0 - D\n",
    "# 1 - E\n",
    "# 2 - F\n",
    "# 3 - G\n",
    "# 4 - H\n",
    "# 5 - I\n",
    "# 6 - J"
   ]
  },
  {
   "cell_type": "code",
   "execution_count": 13,
   "id": "d0f8faef-69cc-4a23-8c49-295a0be21663",
   "metadata": {},
   "outputs": [
    {
     "data": {
      "text/plain": [
       "clarity\n",
       "SI1     13065\n",
       "VS2     12258\n",
       "SI2      9194\n",
       "VS1      8171\n",
       "VVS2     5066\n",
       "VVS1     3655\n",
       "IF       1790\n",
       "I1        741\n",
       "Name: count, dtype: int64"
      ]
     },
     "execution_count": 13,
     "metadata": {},
     "output_type": "execute_result"
    }
   ],
   "source": [
    "diam.clarity.value_counts() # count of clarity grade"
   ]
  },
  {
   "cell_type": "code",
   "execution_count": 15,
   "id": "4c2624e4-ef99-4c8c-8c32-5fc4b59ce892",
   "metadata": {},
   "outputs": [
    {
     "data": {
      "text/plain": [
       "clarity\n",
       "SI1     13065\n",
       "VS2     12258\n",
       "SI2      9194\n",
       "VS1      8171\n",
       "VVS2     5066\n",
       "VVS1     3655\n",
       "IF       1790\n",
       "I1        741\n",
       "Name: count, dtype: int64"
      ]
     },
     "execution_count": 15,
     "metadata": {},
     "output_type": "execute_result"
    }
   ],
   "source": [
    "diam_data.clarity.value_counts()  \n",
    "# CLARITY GRADE\n",
    "# 0 - I1 \n",
    "# 1 - IF\n",
    "# 2 - SI1  \n",
    "# 3 - SI2 \n",
    "# 4 - VS1 \n",
    "# 5 - VS2\n",
    "# 6 - VVS1 \n",
    "# 7 - VVS2"
   ]
  },
  {
   "cell_type": "raw",
   "id": "8d49d7c9-e343-4d13-93d0-10b0e02cdd5e",
   "metadata": {},
   "source": []
  },
  {
   "cell_type": "code",
   "execution_count": 9,
   "id": "c53c1355-31a9-48d1-b856-7a6d4dba239a",
   "metadata": {},
   "outputs": [
    {
     "data": {
      "text/html": [
       "<div>\n",
       "<style scoped>\n",
       "    .dataframe tbody tr th:only-of-type {\n",
       "        vertical-align: middle;\n",
       "    }\n",
       "\n",
       "    .dataframe tbody tr th {\n",
       "        vertical-align: top;\n",
       "    }\n",
       "\n",
       "    .dataframe thead th {\n",
       "        text-align: right;\n",
       "    }\n",
       "</style>\n",
       "<table border=\"1\" class=\"dataframe\">\n",
       "  <thead>\n",
       "    <tr style=\"text-align: right;\">\n",
       "      <th></th>\n",
       "      <th>carat</th>\n",
       "      <th>cut</th>\n",
       "      <th>color</th>\n",
       "      <th>clarity</th>\n",
       "      <th>depth</th>\n",
       "      <th>table</th>\n",
       "      <th>price</th>\n",
       "      <th>x</th>\n",
       "      <th>y</th>\n",
       "      <th>z</th>\n",
       "    </tr>\n",
       "  </thead>\n",
       "  <tbody>\n",
       "    <tr>\n",
       "      <th>0</th>\n",
       "      <td>0.23</td>\n",
       "      <td>Ideal</td>\n",
       "      <td>E</td>\n",
       "      <td>SI2</td>\n",
       "      <td>61.5</td>\n",
       "      <td>55.0</td>\n",
       "      <td>326</td>\n",
       "      <td>3.95</td>\n",
       "      <td>3.98</td>\n",
       "      <td>2.43</td>\n",
       "    </tr>\n",
       "    <tr>\n",
       "      <th>1</th>\n",
       "      <td>0.21</td>\n",
       "      <td>Premium</td>\n",
       "      <td>E</td>\n",
       "      <td>SI1</td>\n",
       "      <td>59.8</td>\n",
       "      <td>61.0</td>\n",
       "      <td>326</td>\n",
       "      <td>3.89</td>\n",
       "      <td>3.84</td>\n",
       "      <td>2.31</td>\n",
       "    </tr>\n",
       "    <tr>\n",
       "      <th>2</th>\n",
       "      <td>0.23</td>\n",
       "      <td>Good</td>\n",
       "      <td>E</td>\n",
       "      <td>VS1</td>\n",
       "      <td>56.9</td>\n",
       "      <td>65.0</td>\n",
       "      <td>327</td>\n",
       "      <td>4.05</td>\n",
       "      <td>4.07</td>\n",
       "      <td>2.31</td>\n",
       "    </tr>\n",
       "    <tr>\n",
       "      <th>3</th>\n",
       "      <td>0.29</td>\n",
       "      <td>Premium</td>\n",
       "      <td>I</td>\n",
       "      <td>VS2</td>\n",
       "      <td>62.4</td>\n",
       "      <td>58.0</td>\n",
       "      <td>334</td>\n",
       "      <td>4.20</td>\n",
       "      <td>4.23</td>\n",
       "      <td>2.63</td>\n",
       "    </tr>\n",
       "    <tr>\n",
       "      <th>4</th>\n",
       "      <td>0.31</td>\n",
       "      <td>Good</td>\n",
       "      <td>J</td>\n",
       "      <td>SI2</td>\n",
       "      <td>63.3</td>\n",
       "      <td>58.0</td>\n",
       "      <td>335</td>\n",
       "      <td>4.34</td>\n",
       "      <td>4.35</td>\n",
       "      <td>2.75</td>\n",
       "    </tr>\n",
       "    <tr>\n",
       "      <th>...</th>\n",
       "      <td>...</td>\n",
       "      <td>...</td>\n",
       "      <td>...</td>\n",
       "      <td>...</td>\n",
       "      <td>...</td>\n",
       "      <td>...</td>\n",
       "      <td>...</td>\n",
       "      <td>...</td>\n",
       "      <td>...</td>\n",
       "      <td>...</td>\n",
       "    </tr>\n",
       "    <tr>\n",
       "      <th>53935</th>\n",
       "      <td>0.72</td>\n",
       "      <td>Ideal</td>\n",
       "      <td>D</td>\n",
       "      <td>SI1</td>\n",
       "      <td>60.8</td>\n",
       "      <td>57.0</td>\n",
       "      <td>2757</td>\n",
       "      <td>5.75</td>\n",
       "      <td>5.76</td>\n",
       "      <td>3.50</td>\n",
       "    </tr>\n",
       "    <tr>\n",
       "      <th>53936</th>\n",
       "      <td>0.72</td>\n",
       "      <td>Good</td>\n",
       "      <td>D</td>\n",
       "      <td>SI1</td>\n",
       "      <td>63.1</td>\n",
       "      <td>55.0</td>\n",
       "      <td>2757</td>\n",
       "      <td>5.69</td>\n",
       "      <td>5.75</td>\n",
       "      <td>3.61</td>\n",
       "    </tr>\n",
       "    <tr>\n",
       "      <th>53937</th>\n",
       "      <td>0.70</td>\n",
       "      <td>Very Good</td>\n",
       "      <td>D</td>\n",
       "      <td>SI1</td>\n",
       "      <td>62.8</td>\n",
       "      <td>60.0</td>\n",
       "      <td>2757</td>\n",
       "      <td>5.66</td>\n",
       "      <td>5.68</td>\n",
       "      <td>3.56</td>\n",
       "    </tr>\n",
       "    <tr>\n",
       "      <th>53938</th>\n",
       "      <td>0.86</td>\n",
       "      <td>Premium</td>\n",
       "      <td>H</td>\n",
       "      <td>SI2</td>\n",
       "      <td>61.0</td>\n",
       "      <td>58.0</td>\n",
       "      <td>2757</td>\n",
       "      <td>6.15</td>\n",
       "      <td>6.12</td>\n",
       "      <td>3.74</td>\n",
       "    </tr>\n",
       "    <tr>\n",
       "      <th>53939</th>\n",
       "      <td>0.75</td>\n",
       "      <td>Ideal</td>\n",
       "      <td>D</td>\n",
       "      <td>SI2</td>\n",
       "      <td>62.2</td>\n",
       "      <td>55.0</td>\n",
       "      <td>2757</td>\n",
       "      <td>5.83</td>\n",
       "      <td>5.87</td>\n",
       "      <td>3.64</td>\n",
       "    </tr>\n",
       "  </tbody>\n",
       "</table>\n",
       "<p>53940 rows × 10 columns</p>\n",
       "</div>"
      ],
      "text/plain": [
       "       carat        cut color clarity  depth  table  price     x     y     z\n",
       "0       0.23      Ideal     E     SI2   61.5   55.0    326  3.95  3.98  2.43\n",
       "1       0.21    Premium     E     SI1   59.8   61.0    326  3.89  3.84  2.31\n",
       "2       0.23       Good     E     VS1   56.9   65.0    327  4.05  4.07  2.31\n",
       "3       0.29    Premium     I     VS2   62.4   58.0    334  4.20  4.23  2.63\n",
       "4       0.31       Good     J     SI2   63.3   58.0    335  4.34  4.35  2.75\n",
       "...      ...        ...   ...     ...    ...    ...    ...   ...   ...   ...\n",
       "53935   0.72      Ideal     D     SI1   60.8   57.0   2757  5.75  5.76  3.50\n",
       "53936   0.72       Good     D     SI1   63.1   55.0   2757  5.69  5.75  3.61\n",
       "53937   0.70  Very Good     D     SI1   62.8   60.0   2757  5.66  5.68  3.56\n",
       "53938   0.86    Premium     H     SI2   61.0   58.0   2757  6.15  6.12  3.74\n",
       "53939   0.75      Ideal     D     SI2   62.2   55.0   2757  5.83  5.87  3.64\n",
       "\n",
       "[53940 rows x 10 columns]"
      ]
     },
     "execution_count": 9,
     "metadata": {},
     "output_type": "execute_result"
    }
   ],
   "source": [
    "# droping Unnamed: 0 column from the dataset \n",
    "diam_data = diam[['carat', 'cut', 'color', 'clarity', 'depth', 'table', 'price', 'x', 'y', 'z']]\n",
    "diam_data"
   ]
  },
  {
   "cell_type": "code",
   "execution_count": 17,
   "id": "0d7d1120-8c8b-41b6-8aa8-13efbc03ac12",
   "metadata": {},
   "outputs": [
    {
     "data": {
      "text/plain": [
       "carat      0\n",
       "cut        0\n",
       "color      0\n",
       "clarity    0\n",
       "depth      0\n",
       "table      0\n",
       "price      0\n",
       "x          0\n",
       "y          0\n",
       "z          0\n",
       "dtype: int64"
      ]
     },
     "execution_count": 17,
     "metadata": {},
     "output_type": "execute_result"
    }
   ],
   "source": [
    "diam_data.isnull().sum() # checking for null values"
   ]
  },
  {
   "cell_type": "raw",
   "id": "917bb271-b314-47fa-862a-7cdc39e9375f",
   "metadata": {},
   "source": []
  },
  {
   "cell_type": "markdown",
   "id": "75475c5e-f138-47d9-b5ff-d8c36efa7090",
   "metadata": {},
   "source": [
    "## PLOTTING (CUT, COLOR, CLARITY) OF 4C'S DISTRIBUTION"
   ]
  },
  {
   "cell_type": "code",
   "execution_count": 20,
   "id": "4c670397-a476-49e5-8ed6-f56b21282fec",
   "metadata": {},
   "outputs": [
    {
     "data": {
      "image/png": "[encoded data removed]",
      "text/plain": [
       "<Figure size 640x480 with 1 Axes>"
      ]
     },
     "metadata": {},
     "output_type": "display_data"
    },
    {
     "data": {
      "image/png": "[encoded data removed]",
      "text/plain": [
       "<Figure size 640x480 with 1 Axes>"
      ]
     },
     "metadata": {},
     "output_type": "display_data"
    },
    {
     "data": {
      "image/png": "[encoded data removed]",
      "text/plain": [
       "<Figure size 640x480 with 1 Axes>"
      ]
     },
     "metadata": {},
     "output_type": "display_data"
    }
   ],
   "source": [
    "import matplotlib.pyplot as plt\n",
    "import seaborn as sns\n",
    "\n",
    "# Plot distribution of 'cut'\n",
    "sns.countplot(x='cut', data=diam_data)\n",
    "plt.title('Distribution of Cut')\n",
    "plt.show()\n",
    "\n",
    "# Plot distribution of 'color'\n",
    "sns.countplot(x='color', data=diam_data)\n",
    "plt.title('Distribution of Color Grade')\n",
    "plt.show()\n",
    "\n",
    "# Plot distribution of 'clarity'\n",
    "sns.countplot(x='clarity', data=diam_data)\n",
    "plt.title('Distribution of Clarity Grade')\n",
    "plt.show()"
   ]
  },
  {
   "cell_type": "raw",
   "id": "e935adb5-51a4-481a-ba6f-8adc5e4674fd",
   "metadata": {},
   "source": []
  },
  {
   "cell_type": "raw",
   "id": "d70b1f6e-7739-4bf1-b793-74bbee93d0c9",
   "metadata": {},
   "source": []
  },
  {
   "cell_type": "code",
   "execution_count": 22,
   "id": "e1133386-26aa-4742-9dcd-464b6eb4618d",
   "metadata": {},
   "outputs": [],
   "source": [
    "# importing an module to convert text into numeric\n",
    "from sklearn.preprocessing import LabelEncoder\n",
    "le = LabelEncoder() # assigning Label Encoder module to an variable"
   ]
  },
  {
   "cell_type": "code",
   "execution_count": 24,
   "id": "49aa4527-282a-4a51-ab4b-e1226bd60d8c",
   "metadata": {},
   "outputs": [],
   "source": [
    "# converting text into numeric \n",
    "diam_data['cut'] = le.fit_transform(diam_data['cut']) # cut\n",
    "diam_data['color'] = le.fit_transform(diam_data['color']) # color\n",
    "diam_data['clarity'] = le.fit_transform(diam_data['clarity']) # clarity"
   ]
  },
  {
   "cell_type": "code",
   "execution_count": 26,
   "id": "c22d590b-0a39-4a5e-ac86-1d61fc228765",
   "metadata": {},
   "outputs": [
    {
     "data": {
      "text/html": [
       "<div>\n",
       "<style scoped>\n",
       "    .dataframe tbody tr th:only-of-type {\n",
       "        vertical-align: middle;\n",
       "    }\n",
       "\n",
       "    .dataframe tbody tr th {\n",
       "        vertical-align: top;\n",
       "    }\n",
       "\n",
       "    .dataframe thead th {\n",
       "        text-align: right;\n",
       "    }\n",
       "</style>\n",
       "<table border=\"1\" class=\"dataframe\">\n",
       "  <thead>\n",
       "    <tr style=\"text-align: right;\">\n",
       "      <th></th>\n",
       "      <th>carat</th>\n",
       "      <th>cut</th>\n",
       "      <th>color</th>\n",
       "      <th>clarity</th>\n",
       "      <th>depth</th>\n",
       "      <th>table</th>\n",
       "      <th>price</th>\n",
       "      <th>x</th>\n",
       "      <th>y</th>\n",
       "      <th>z</th>\n",
       "    </tr>\n",
       "  </thead>\n",
       "  <tbody>\n",
       "    <tr>\n",
       "      <th>0</th>\n",
       "      <td>0.23</td>\n",
       "      <td>2</td>\n",
       "      <td>1</td>\n",
       "      <td>3</td>\n",
       "      <td>61.5</td>\n",
       "      <td>55.0</td>\n",
       "      <td>326</td>\n",
       "      <td>3.95</td>\n",
       "      <td>3.98</td>\n",
       "      <td>2.43</td>\n",
       "    </tr>\n",
       "    <tr>\n",
       "      <th>1</th>\n",
       "      <td>0.21</td>\n",
       "      <td>3</td>\n",
       "      <td>1</td>\n",
       "      <td>2</td>\n",
       "      <td>59.8</td>\n",
       "      <td>61.0</td>\n",
       "      <td>326</td>\n",
       "      <td>3.89</td>\n",
       "      <td>3.84</td>\n",
       "      <td>2.31</td>\n",
       "    </tr>\n",
       "    <tr>\n",
       "      <th>2</th>\n",
       "      <td>0.23</td>\n",
       "      <td>1</td>\n",
       "      <td>1</td>\n",
       "      <td>4</td>\n",
       "      <td>56.9</td>\n",
       "      <td>65.0</td>\n",
       "      <td>327</td>\n",
       "      <td>4.05</td>\n",
       "      <td>4.07</td>\n",
       "      <td>2.31</td>\n",
       "    </tr>\n",
       "    <tr>\n",
       "      <th>3</th>\n",
       "      <td>0.29</td>\n",
       "      <td>3</td>\n",
       "      <td>5</td>\n",
       "      <td>5</td>\n",
       "      <td>62.4</td>\n",
       "      <td>58.0</td>\n",
       "      <td>334</td>\n",
       "      <td>4.20</td>\n",
       "      <td>4.23</td>\n",
       "      <td>2.63</td>\n",
       "    </tr>\n",
       "    <tr>\n",
       "      <th>4</th>\n",
       "      <td>0.31</td>\n",
       "      <td>1</td>\n",
       "      <td>6</td>\n",
       "      <td>3</td>\n",
       "      <td>63.3</td>\n",
       "      <td>58.0</td>\n",
       "      <td>335</td>\n",
       "      <td>4.34</td>\n",
       "      <td>4.35</td>\n",
       "      <td>2.75</td>\n",
       "    </tr>\n",
       "  </tbody>\n",
       "</table>\n",
       "</div>"
      ],
      "text/plain": [
       "   carat  cut  color  clarity  depth  table  price     x     y     z\n",
       "0   0.23    2      1        3   61.5   55.0    326  3.95  3.98  2.43\n",
       "1   0.21    3      1        2   59.8   61.0    326  3.89  3.84  2.31\n",
       "2   0.23    1      1        4   56.9   65.0    327  4.05  4.07  2.31\n",
       "3   0.29    3      5        5   62.4   58.0    334  4.20  4.23  2.63\n",
       "4   0.31    1      6        3   63.3   58.0    335  4.34  4.35  2.75"
      ]
     },
     "execution_count": 26,
     "metadata": {},
     "output_type": "execute_result"
    }
   ],
   "source": [
    "diam_data.head() # first 5"
   ]
  },
  {
   "cell_type": "code",
   "execution_count": 28,
   "id": "021586f8-dd62-47f9-9faa-936c04d1e5d6",
   "metadata": {},
   "outputs": [
    {
     "data": {
      "text/html": [
       "<div>\n",
       "<style scoped>\n",
       "    .dataframe tbody tr th:only-of-type {\n",
       "        vertical-align: middle;\n",
       "    }\n",
       "\n",
       "    .dataframe tbody tr th {\n",
       "        vertical-align: top;\n",
       "    }\n",
       "\n",
       "    .dataframe thead th {\n",
       "        text-align: right;\n",
       "    }\n",
       "</style>\n",
       "<table border=\"1\" class=\"dataframe\">\n",
       "  <thead>\n",
       "    <tr style=\"text-align: right;\">\n",
       "      <th></th>\n",
       "      <th>carat</th>\n",
       "      <th>cut</th>\n",
       "      <th>color</th>\n",
       "      <th>clarity</th>\n",
       "      <th>depth</th>\n",
       "      <th>table</th>\n",
       "      <th>x</th>\n",
       "      <th>y</th>\n",
       "      <th>z</th>\n",
       "    </tr>\n",
       "  </thead>\n",
       "  <tbody>\n",
       "    <tr>\n",
       "      <th>0</th>\n",
       "      <td>0.23</td>\n",
       "      <td>2</td>\n",
       "      <td>1</td>\n",
       "      <td>3</td>\n",
       "      <td>61.5</td>\n",
       "      <td>55.0</td>\n",
       "      <td>3.95</td>\n",
       "      <td>3.98</td>\n",
       "      <td>2.43</td>\n",
       "    </tr>\n",
       "    <tr>\n",
       "      <th>1</th>\n",
       "      <td>0.21</td>\n",
       "      <td>3</td>\n",
       "      <td>1</td>\n",
       "      <td>2</td>\n",
       "      <td>59.8</td>\n",
       "      <td>61.0</td>\n",
       "      <td>3.89</td>\n",
       "      <td>3.84</td>\n",
       "      <td>2.31</td>\n",
       "    </tr>\n",
       "    <tr>\n",
       "      <th>2</th>\n",
       "      <td>0.23</td>\n",
       "      <td>1</td>\n",
       "      <td>1</td>\n",
       "      <td>4</td>\n",
       "      <td>56.9</td>\n",
       "      <td>65.0</td>\n",
       "      <td>4.05</td>\n",
       "      <td>4.07</td>\n",
       "      <td>2.31</td>\n",
       "    </tr>\n",
       "    <tr>\n",
       "      <th>3</th>\n",
       "      <td>0.29</td>\n",
       "      <td>3</td>\n",
       "      <td>5</td>\n",
       "      <td>5</td>\n",
       "      <td>62.4</td>\n",
       "      <td>58.0</td>\n",
       "      <td>4.20</td>\n",
       "      <td>4.23</td>\n",
       "      <td>2.63</td>\n",
       "    </tr>\n",
       "    <tr>\n",
       "      <th>4</th>\n",
       "      <td>0.31</td>\n",
       "      <td>1</td>\n",
       "      <td>6</td>\n",
       "      <td>3</td>\n",
       "      <td>63.3</td>\n",
       "      <td>58.0</td>\n",
       "      <td>4.34</td>\n",
       "      <td>4.35</td>\n",
       "      <td>2.75</td>\n",
       "    </tr>\n",
       "    <tr>\n",
       "      <th>...</th>\n",
       "      <td>...</td>\n",
       "      <td>...</td>\n",
       "      <td>...</td>\n",
       "      <td>...</td>\n",
       "      <td>...</td>\n",
       "      <td>...</td>\n",
       "      <td>...</td>\n",
       "      <td>...</td>\n",
       "      <td>...</td>\n",
       "    </tr>\n",
       "    <tr>\n",
       "      <th>53935</th>\n",
       "      <td>0.72</td>\n",
       "      <td>2</td>\n",
       "      <td>0</td>\n",
       "      <td>2</td>\n",
       "      <td>60.8</td>\n",
       "      <td>57.0</td>\n",
       "      <td>5.75</td>\n",
       "      <td>5.76</td>\n",
       "      <td>3.50</td>\n",
       "    </tr>\n",
       "    <tr>\n",
       "      <th>53936</th>\n",
       "      <td>0.72</td>\n",
       "      <td>1</td>\n",
       "      <td>0</td>\n",
       "      <td>2</td>\n",
       "      <td>63.1</td>\n",
       "      <td>55.0</td>\n",
       "      <td>5.69</td>\n",
       "      <td>5.75</td>\n",
       "      <td>3.61</td>\n",
       "    </tr>\n",
       "    <tr>\n",
       "      <th>53937</th>\n",
       "      <td>0.70</td>\n",
       "      <td>4</td>\n",
       "      <td>0</td>\n",
       "      <td>2</td>\n",
       "      <td>62.8</td>\n",
       "      <td>60.0</td>\n",
       "      <td>5.66</td>\n",
       "      <td>5.68</td>\n",
       "      <td>3.56</td>\n",
       "    </tr>\n",
       "    <tr>\n",
       "      <th>53938</th>\n",
       "      <td>0.86</td>\n",
       "      <td>3</td>\n",
       "      <td>4</td>\n",
       "      <td>3</td>\n",
       "      <td>61.0</td>\n",
       "      <td>58.0</td>\n",
       "      <td>6.15</td>\n",
       "      <td>6.12</td>\n",
       "      <td>3.74</td>\n",
       "    </tr>\n",
       "    <tr>\n",
       "      <th>53939</th>\n",
       "      <td>0.75</td>\n",
       "      <td>2</td>\n",
       "      <td>0</td>\n",
       "      <td>3</td>\n",
       "      <td>62.2</td>\n",
       "      <td>55.0</td>\n",
       "      <td>5.83</td>\n",
       "      <td>5.87</td>\n",
       "      <td>3.64</td>\n",
       "    </tr>\n",
       "  </tbody>\n",
       "</table>\n",
       "<p>53940 rows × 9 columns</p>\n",
       "</div>"
      ],
      "text/plain": [
       "       carat  cut  color  clarity  depth  table     x     y     z\n",
       "0       0.23    2      1        3   61.5   55.0  3.95  3.98  2.43\n",
       "1       0.21    3      1        2   59.8   61.0  3.89  3.84  2.31\n",
       "2       0.23    1      1        4   56.9   65.0  4.05  4.07  2.31\n",
       "3       0.29    3      5        5   62.4   58.0  4.20  4.23  2.63\n",
       "4       0.31    1      6        3   63.3   58.0  4.34  4.35  2.75\n",
       "...      ...  ...    ...      ...    ...    ...   ...   ...   ...\n",
       "53935   0.72    2      0        2   60.8   57.0  5.75  5.76  3.50\n",
       "53936   0.72    1      0        2   63.1   55.0  5.69  5.75  3.61\n",
       "53937   0.70    4      0        2   62.8   60.0  5.66  5.68  3.56\n",
       "53938   0.86    3      4        3   61.0   58.0  6.15  6.12  3.74\n",
       "53939   0.75    2      0        3   62.2   55.0  5.83  5.87  3.64\n",
       "\n",
       "[53940 rows x 9 columns]"
      ]
     },
     "execution_count": 28,
     "metadata": {},
     "output_type": "execute_result"
    }
   ],
   "source": [
    "x = diam_data.drop([\"price\"], axis = 1) # features\n",
    "x\n"
   ]
  },
  {
   "cell_type": "code",
   "execution_count": 30,
   "id": "55a50030-ceb1-419d-b2ab-2e11919a7562",
   "metadata": {},
   "outputs": [
    {
     "data": {
      "text/plain": [
       "0         326\n",
       "1         326\n",
       "2         327\n",
       "3         334\n",
       "4         335\n",
       "         ... \n",
       "53935    2757\n",
       "53936    2757\n",
       "53937    2757\n",
       "53938    2757\n",
       "53939    2757\n",
       "Name: price, Length: 53940, dtype: int64"
      ]
     },
     "execution_count": 30,
     "metadata": {},
     "output_type": "execute_result"
    }
   ],
   "source": [
    "y = diam_data.price # targets\n",
    "y"
   ]
  },
  {
   "cell_type": "markdown",
   "id": "f443ac2e-34cb-49c0-a18b-9dca21cc1f3e",
   "metadata": {},
   "source": [
    "##"
   ]
  },
  {
   "cell_type": "markdown",
   "id": "249ee128-34fb-4a87-8d68-303b3051bc68",
   "metadata": {},
   "source": [
    "## SPLITING INTO TRAINING AND TESTING SETS"
   ]
  },
  {
   "cell_type": "code",
   "execution_count": 34,
   "id": "529d1c83-1264-49ca-a867-d794a56ee075",
   "metadata": {},
   "outputs": [],
   "source": [
    "# importing train_test_split meethod to split dataset\n",
    "from sklearn.model_selection import train_test_split "
   ]
  },
  {
   "cell_type": "code",
   "execution_count": 36,
   "id": "234f9995-f97e-43bb-b516-ca154b9ba40b",
   "metadata": {},
   "outputs": [
    {
     "data": {
      "text/html": [
       "<div>\n",
       "<style scoped>\n",
       "    .dataframe tbody tr th:only-of-type {\n",
       "        vertical-align: middle;\n",
       "    }\n",
       "\n",
       "    .dataframe tbody tr th {\n",
       "        vertical-align: top;\n",
       "    }\n",
       "\n",
       "    .dataframe thead th {\n",
       "        text-align: right;\n",
       "    }\n",
       "</style>\n",
       "<table border=\"1\" class=\"dataframe\">\n",
       "  <thead>\n",
       "    <tr style=\"text-align: right;\">\n",
       "      <th></th>\n",
       "      <th>carat</th>\n",
       "      <th>cut</th>\n",
       "      <th>color</th>\n",
       "      <th>clarity</th>\n",
       "      <th>depth</th>\n",
       "      <th>table</th>\n",
       "      <th>x</th>\n",
       "      <th>y</th>\n",
       "      <th>z</th>\n",
       "    </tr>\n",
       "  </thead>\n",
       "  <tbody>\n",
       "    <tr>\n",
       "      <th>26546</th>\n",
       "      <td>2.01</td>\n",
       "      <td>1</td>\n",
       "      <td>2</td>\n",
       "      <td>3</td>\n",
       "      <td>58.1</td>\n",
       "      <td>64.0</td>\n",
       "      <td>8.23</td>\n",
       "      <td>8.19</td>\n",
       "      <td>4.77</td>\n",
       "    </tr>\n",
       "    <tr>\n",
       "      <th>9159</th>\n",
       "      <td>1.01</td>\n",
       "      <td>4</td>\n",
       "      <td>1</td>\n",
       "      <td>3</td>\n",
       "      <td>60.0</td>\n",
       "      <td>60.0</td>\n",
       "      <td>6.57</td>\n",
       "      <td>6.49</td>\n",
       "      <td>3.92</td>\n",
       "    </tr>\n",
       "    <tr>\n",
       "      <th>14131</th>\n",
       "      <td>1.10</td>\n",
       "      <td>3</td>\n",
       "      <td>4</td>\n",
       "      <td>5</td>\n",
       "      <td>62.5</td>\n",
       "      <td>58.0</td>\n",
       "      <td>6.59</td>\n",
       "      <td>6.54</td>\n",
       "      <td>4.10</td>\n",
       "    </tr>\n",
       "    <tr>\n",
       "      <th>15757</th>\n",
       "      <td>1.50</td>\n",
       "      <td>1</td>\n",
       "      <td>1</td>\n",
       "      <td>3</td>\n",
       "      <td>61.5</td>\n",
       "      <td>65.0</td>\n",
       "      <td>7.21</td>\n",
       "      <td>7.17</td>\n",
       "      <td>4.42</td>\n",
       "    </tr>\n",
       "    <tr>\n",
       "      <th>24632</th>\n",
       "      <td>1.52</td>\n",
       "      <td>4</td>\n",
       "      <td>3</td>\n",
       "      <td>4</td>\n",
       "      <td>62.1</td>\n",
       "      <td>57.0</td>\n",
       "      <td>7.27</td>\n",
       "      <td>7.32</td>\n",
       "      <td>4.53</td>\n",
       "    </tr>\n",
       "    <tr>\n",
       "      <th>...</th>\n",
       "      <td>...</td>\n",
       "      <td>...</td>\n",
       "      <td>...</td>\n",
       "      <td>...</td>\n",
       "      <td>...</td>\n",
       "      <td>...</td>\n",
       "      <td>...</td>\n",
       "      <td>...</td>\n",
       "      <td>...</td>\n",
       "    </tr>\n",
       "    <tr>\n",
       "      <th>11284</th>\n",
       "      <td>1.05</td>\n",
       "      <td>4</td>\n",
       "      <td>5</td>\n",
       "      <td>5</td>\n",
       "      <td>62.4</td>\n",
       "      <td>59.0</td>\n",
       "      <td>6.48</td>\n",
       "      <td>6.51</td>\n",
       "      <td>4.05</td>\n",
       "    </tr>\n",
       "    <tr>\n",
       "      <th>44732</th>\n",
       "      <td>0.47</td>\n",
       "      <td>2</td>\n",
       "      <td>0</td>\n",
       "      <td>4</td>\n",
       "      <td>61.0</td>\n",
       "      <td>55.0</td>\n",
       "      <td>5.03</td>\n",
       "      <td>5.01</td>\n",
       "      <td>3.06</td>\n",
       "    </tr>\n",
       "    <tr>\n",
       "      <th>38158</th>\n",
       "      <td>0.33</td>\n",
       "      <td>4</td>\n",
       "      <td>2</td>\n",
       "      <td>1</td>\n",
       "      <td>60.3</td>\n",
       "      <td>58.0</td>\n",
       "      <td>4.49</td>\n",
       "      <td>4.46</td>\n",
       "      <td>2.70</td>\n",
       "    </tr>\n",
       "    <tr>\n",
       "      <th>860</th>\n",
       "      <td>0.90</td>\n",
       "      <td>3</td>\n",
       "      <td>6</td>\n",
       "      <td>2</td>\n",
       "      <td>62.8</td>\n",
       "      <td>59.0</td>\n",
       "      <td>6.13</td>\n",
       "      <td>6.03</td>\n",
       "      <td>3.82</td>\n",
       "    </tr>\n",
       "    <tr>\n",
       "      <th>15795</th>\n",
       "      <td>1.14</td>\n",
       "      <td>3</td>\n",
       "      <td>2</td>\n",
       "      <td>2</td>\n",
       "      <td>60.4</td>\n",
       "      <td>58.0</td>\n",
       "      <td>6.82</td>\n",
       "      <td>6.79</td>\n",
       "      <td>4.11</td>\n",
       "    </tr>\n",
       "  </tbody>\n",
       "</table>\n",
       "<p>43152 rows × 9 columns</p>\n",
       "</div>"
      ],
      "text/plain": [
       "       carat  cut  color  clarity  depth  table     x     y     z\n",
       "26546   2.01    1      2        3   58.1   64.0  8.23  8.19  4.77\n",
       "9159    1.01    4      1        3   60.0   60.0  6.57  6.49  3.92\n",
       "14131   1.10    3      4        5   62.5   58.0  6.59  6.54  4.10\n",
       "15757   1.50    1      1        3   61.5   65.0  7.21  7.17  4.42\n",
       "24632   1.52    4      3        4   62.1   57.0  7.27  7.32  4.53\n",
       "...      ...  ...    ...      ...    ...    ...   ...   ...   ...\n",
       "11284   1.05    4      5        5   62.4   59.0  6.48  6.51  4.05\n",
       "44732   0.47    2      0        4   61.0   55.0  5.03  5.01  3.06\n",
       "38158   0.33    4      2        1   60.3   58.0  4.49  4.46  2.70\n",
       "860     0.90    3      6        2   62.8   59.0  6.13  6.03  3.82\n",
       "15795   1.14    3      2        2   60.4   58.0  6.82  6.79  4.11\n",
       "\n",
       "[43152 rows x 9 columns]"
      ]
     },
     "execution_count": 36,
     "metadata": {},
     "output_type": "execute_result"
    }
   ],
   "source": [
    "x_train, x_test, y_train, y_test = train_test_split(x, y , test_size = 0.2, random_state = 42)\n",
    "x_train"
   ]
  },
  {
   "cell_type": "code",
   "execution_count": 38,
   "id": "1b478427-d2c5-4d54-8853-f5db0a11a9a7",
   "metadata": {},
   "outputs": [
    {
     "data": {
      "text/plain": [
       "26546    16231\n",
       "9159      4540\n",
       "14131     5729\n",
       "15757     6300\n",
       "24632    12968\n",
       "         ...  \n",
       "11284     4975\n",
       "44732     1617\n",
       "38158     1014\n",
       "860       2871\n",
       "15795     6320\n",
       "Name: price, Length: 43152, dtype: int64"
      ]
     },
     "execution_count": 38,
     "metadata": {},
     "output_type": "execute_result"
    }
   ],
   "source": [
    "y_train"
   ]
  },
  {
   "cell_type": "markdown",
   "id": "437458b4-4e18-4b29-89fb-316c5f1faabc",
   "metadata": {},
   "source": [
    "##"
   ]
  },
  {
   "cell_type": "code",
   "execution_count": 41,
   "id": "9af9560f-cec6-4da4-b223-cdfd06a1d565",
   "metadata": {},
   "outputs": [],
   "source": [
    "# scales the features of your data set so that they are on the same scale\n",
    "from sklearn.preprocessing import StandardScaler\n",
    "scaler = StandardScaler()"
   ]
  },
  {
   "cell_type": "code",
   "execution_count": 43,
   "id": "25c55406-38d8-4bc1-9bb5-158d3076c628",
   "metadata": {},
   "outputs": [],
   "source": [
    "x_train_scaled = scaler.fit_transform(x_train) \n",
    "x_test_scaled = scaler.transform(x_test)"
   ]
  },
  {
   "cell_type": "markdown",
   "id": "870fbac0-0259-4599-b158-9e92cbdae2c1",
   "metadata": {},
   "source": [
    "##"
   ]
  },
  {
   "cell_type": "markdown",
   "id": "5fe51485-4586-49d1-b075-53b3c91605d6",
   "metadata": {},
   "source": [
    "## USING SEVERAL REGRESSION ALGORITHMS TO FIND THE BEST MODEL"
   ]
  },
  {
   "cell_type": "raw",
   "id": "0e2e0116-5753-4eb4-ba66-58e02ff5dbff",
   "metadata": {},
   "source": [
    "# LINEAR REGRESSION\n",
    "# DECISION TREE REGRESSOR\n",
    "# RANDOM FOREST REGRESSOR\n",
    "# KNN\n",
    "# ADABOOST\n",
    "# GRADIENT BOOST"
   ]
  },
  {
   "cell_type": "markdown",
   "id": "11c2be7a-eece-43cd-a6ab-73593086cfba",
   "metadata": {},
   "source": [
    "## USING LINEAR REGRESSION"
   ]
  },
  {
   "cell_type": "code",
   "execution_count": 45,
   "id": "3236fc86-2631-4ff5-9217-3af5b7f2fb8e",
   "metadata": {},
   "outputs": [
    {
     "name": "stdout",
     "output_type": "stream",
     "text": [
      "Accuracy of Linear Regression model : 0.8851397433679629\n",
      "Mean Squared Error (MSE) of Linear Regression model : 1825912.9915253522\n",
      "Mean Absolute Error (MAE) of Linear Regression model : 858.7084697710096\n",
      "R^2 Score of Linear Regression model : 0.8851397433679629\n"
     ]
    }
   ],
   "source": [
    "from sklearn.linear_model import LinearRegression\n",
    "from sklearn.metrics import mean_squared_error, mean_absolute_error, r2_score\n",
    "\n",
    "# Creating the Linear Regression model\n",
    "lr_model = LinearRegression()\n",
    "\n",
    "# Training the model\n",
    "lr_model.fit(x_train_scaled, y_train)\n",
    "\n",
    "# Predicting the test set results\n",
    "y_pred = lr_model.predict(x_test_scaled)\n",
    "\n",
    "# Calculating regression metrics\n",
    "mse = mean_squared_error(y_test, y_pred)\n",
    "mae = mean_absolute_error(y_test, y_pred)\n",
    "r2 = r2_score(y_test, y_pred)\n",
    "accuracy = lr_model.score(x_test_scaled, y_test)\n",
    "\n",
    "# Printing the metrics\n",
    "print(\"Accuracy of Linear Regression model :\", accuracy)\n",
    "print(\"Mean Squared Error (MSE) of Linear Regression model :\", mse)\n",
    "print(\"Mean Absolute Error (MAE) of Linear Regression model :\", mae)\n",
    "print(\"R^2 Score of Linear Regression model :\", r2)\n"
   ]
  },
  {
   "cell_type": "raw",
   "id": "040e5f7b-a834-4b68-99e7-85f64931ce20",
   "metadata": {},
   "source": []
  },
  {
   "cell_type": "markdown",
   "id": "fcfae380-4525-4744-a8fb-6dd5fade1fc3",
   "metadata": {},
   "source": [
    "## USING DECISION TREE REGRESSOR"
   ]
  },
  {
   "cell_type": "code",
   "execution_count": 52,
   "id": "d7fee733-8b1e-42f1-9e65-9857e7a8bdbc",
   "metadata": {},
   "outputs": [],
   "source": [
    "# importing Decision Tree Regressor algorithm\n",
    "from sklearn.tree import DecisionTreeRegressor\n",
    "dtr_model = DecisionTreeRegressor()"
   ]
  },
  {
   "cell_type": "code",
   "execution_count": 54,
   "id": "2f20e8f3-0f66-4e76-9bf2-1782a95069a5",
   "metadata": {},
   "outputs": [
    {
     "name": "stdout",
     "output_type": "stream",
     "text": [
      "Accuracy of Decision Tree Regressor model: 0.9671848353004658\n",
      "Mean Squared Error (MSE) of Decision Tree Regressor model: 521656.8141221728\n",
      "Mean Absolute Error (MAE) of Decision Tree Regressor model: 352.20267890248425\n",
      "R^2 Score of Decision Tree Regressor model: 0.9671848353004658\n"
     ]
    }
   ],
   "source": [
    "# Training the model\n",
    "dtr_model.fit(x_train_scaled, y_train)\n",
    "\n",
    "# Predicting the test set results\n",
    "y_pred = dtr_model.predict(x_test_scaled)\n",
    "\n",
    "# Calculating regression metrics\n",
    "mse = mean_squared_error(y_test, y_pred)\n",
    "mae = mean_absolute_error(y_test, y_pred)\n",
    "r2 = r2_score(y_test, y_pred)\n",
    "accuracy = dtr_model.score(x_test_scaled, y_test)\n",
    "\n",
    "# Printing the metrics\n",
    "print(\"Accuracy of Decision Tree Regressor model:\", accuracy)\n",
    "print(\"Mean Squared Error (MSE) of Decision Tree Regressor model:\", mse)\n",
    "print(\"Mean Absolute Error (MAE) of Decision Tree Regressor model:\", mae)\n",
    "print(\"R^2 Score of Decision Tree Regressor model:\", r2)\n"
   ]
  },
  {
   "cell_type": "raw",
   "id": "012dfefa-addb-470c-a90d-113874e98d88",
   "metadata": {},
   "source": []
  },
  {
   "cell_type": "markdown",
   "id": "93475c27-a25f-45d3-91f0-060bd81c46af",
   "metadata": {},
   "source": [
    "## USING RANDOM FOREST REGRESSOR"
   ]
  },
  {
   "cell_type": "code",
   "execution_count": 47,
   "id": "abbca0d9-1a39-4075-9e48-75679e2933ff",
   "metadata": {},
   "outputs": [],
   "source": [
    "# importing Random Forest Regressor algorithm\n",
    "from sklearn.ensemble import RandomForestRegressor\n",
    "rfr_model = RandomForestRegressor(n_estimators = 10)\n",
    "# (n_estimators = 10): the random forest model will be composed of 10 decision trees."
   ]
  },
  {
   "cell_type": "code",
   "execution_count": 49,
   "id": "4f1d31c8-cd19-402f-b15e-05bb9152803f",
   "metadata": {},
   "outputs": [
    {
     "name": "stdout",
     "output_type": "stream",
     "text": [
      "Accuracy Score of Random Forest Regressor model : 0.9796836520166002\n",
      "Mean Squared Error (MSE) of Random Forest Regressor model: 322965.35643376503\n",
      "Mean Absolute Error (MAE) of Random Forest Regressor model: 281.6877047689673\n",
      "R^2 Score of Random Forest Regressor model: 0.9796836520166002\n"
     ]
    }
   ],
   "source": [
    "# Training the model\n",
    "rfr_model.fit(x_train_scaled, y_train)\n",
    "\n",
    "# Predicting the test set results\n",
    "y_pred = rfr_model.predict(x_test_scaled)\n",
    "\n",
    "# Calculating regression metrics\n",
    "mse = mean_squared_error(y_test, y_pred)\n",
    "mae = mean_absolute_error(y_test, y_pred)\n",
    "r2 = r2_score(y_test, y_pred)\n",
    "accuracy = rfr_model.score(x_test_scaled, y_test)\n",
    "\n",
    "# Printing the metrics\n",
    "print(\"Accuracy Score of Random Forest Regressor model :\", accuracy)\n",
    "print(\"Mean Squared Error (MSE) of Random Forest Regressor model:\", mse)\n",
    "print(\"Mean Absolute Error (MAE) of Random Forest Regressor model:\", mae)\n",
    "print(\"R^2 Score of Random Forest Regressor model:\", r2)\n"
   ]
  },
  {
   "cell_type": "raw",
   "id": "ef5de2a0-af28-4fa8-894e-0721ec09e5f8",
   "metadata": {},
   "source": []
  },
  {
   "cell_type": "raw",
   "id": "2da0f038-13ee-4a8e-8945-769154381839",
   "metadata": {},
   "source": []
  },
  {
   "cell_type": "code",
   "execution_count": 60,
   "id": "0273a6cd-2b2f-4382-930a-995eb4539449",
   "metadata": {},
   "outputs": [
    {
     "name": "stdout",
     "output_type": "stream",
     "text": [
      "Accuracy Score of Random Forest Regressor model : 0.9800457996924429\n"
     ]
    }
   ],
   "source": [
    "print(\"Accuracy Score of Random Forest Regressor model :\", rfr_model.score(x_test_scaled,y_test)) # Accuracy score of trained model"
   ]
  },
  {
   "cell_type": "raw",
   "id": "104beaa2-8be2-4817-a0b1-6c9c2fae4f5f",
   "metadata": {},
   "source": []
  },
  {
   "cell_type": "markdown",
   "id": "c7cd0205-2eff-488e-9430-47d2bf35daa7",
   "metadata": {},
   "source": [
    "## USING K-NEAREST NEIGHBOR ALGORITHM"
   ]
  },
  {
   "cell_type": "code",
   "execution_count": 61,
   "id": "0b511ee8-3f5d-47f2-8919-fe51087b8e52",
   "metadata": {},
   "outputs": [],
   "source": [
    "# importing KNeighbors Regressor algorithm\n",
    "from sklearn.neighbors import KNeighborsRegressor\n",
    "knn_model = KNeighborsRegressor(n_neighbors = 5)\n",
    "# (n_neighbors = 5): the algorithm will look at the five closest data points to make its prediction"
   ]
  },
  {
   "cell_type": "code",
   "execution_count": 63,
   "id": "27b2ff33-fc65-4367-969b-659d3f2a44f5",
   "metadata": {},
   "outputs": [
    {
     "name": "stdout",
     "output_type": "stream",
     "text": [
      "Accuracy Score of K Nearest Neighbor Regressor model : 0.9584376613985824\n",
      "Mean Squared Error (MSE) of K Nearest Neighbor Regressor model: 660709.0758435299\n",
      "Mean Absolute Error (MAE) of K Nearest Neighbor Regressor model: 408.7976826103078\n",
      "R^2 Score of K Nearest Neighbor Regressor model: 0.9584376613985824\n"
     ]
    }
   ],
   "source": [
    "# Training the model\n",
    "knn_model.fit(x_train_scaled, y_train)\n",
    "\n",
    "# Predicting the test set results\n",
    "y_pred = knn_model.predict(x_test_scaled)\n",
    "\n",
    "# Calculating regression metrics\n",
    "mse = mean_squared_error(y_test, y_pred)\n",
    "mae = mean_absolute_error(y_test, y_pred)\n",
    "r2 = r2_score(y_test, y_pred)\n",
    "accuracy = knn_model.score(x_test_scaled, y_test)\n",
    "\n",
    "# Printing the metrics\n",
    "print(\"Accuracy Score of K Nearest Neighbor Regressor model :\", accuracy)\n",
    "print(\"Mean Squared Error (MSE) of K Nearest Neighbor Regressor model:\", mse)\n",
    "print(\"Mean Absolute Error (MAE) of K Nearest Neighbor Regressor model:\", mae)\n",
    "print(\"R^2 Score of K Nearest Neighbor Regressor model:\", r2)\n"
   ]
  },
  {
   "cell_type": "raw",
   "id": "a541964e-d149-4c73-baac-a3fb169f3723",
   "metadata": {},
   "source": []
  },
  {
   "cell_type": "markdown",
   "id": "5d2d1fb6-06fd-4452-aeb5-cd82f5589c88",
   "metadata": {},
   "source": [
    "## USING ADABOOST OF BOOSTING ALGORITHMS"
   ]
  },
  {
   "cell_type": "code",
   "execution_count": 66,
   "id": "1aa6fce9-137c-4cd2-bff0-b11c209b9247",
   "metadata": {},
   "outputs": [],
   "source": [
    "# importing AdaBoost Regressor algorithm\n",
    "from sklearn.ensemble import AdaBoostRegressor\n",
    "adaboost_model = AdaBoostRegressor(n_estimators = 20, learning_rate = 0.3)\n",
    "#(n_estimators = 20): This parameter specifies the number of weak learners to be used in the boosting process\n",
    "# higher number can increase the performance but also the computation time and risk of overfitting.\n",
    "\n",
    "# (learning_rate = 0.3): This parameter controls the contribution of each weak learner to the final model\n",
    "# (learning rate of 0.3): is used, which balances between the extremes of fast learning and potential overfitting"
   ]
  },
  {
   "cell_type": "code",
   "execution_count": 68,
   "id": "8a606203-a299-4e1d-a4f1-e1f3350a4332",
   "metadata": {},
   "outputs": [
    {
     "name": "stdout",
     "output_type": "stream",
     "text": [
      "Accuracy Score of Ada Boost Regressor model : 0.8829682828427715\n",
      "Mean Squared Error (MSE) of Ada Boost Regressor model: 1860432.3117827775\n",
      "Mean Absolute Error (MAE) of Ada Boost Regressor model: 831.0977461543158\n",
      "R^2 Score of Ada Boost Regressor model: 0.8829682828427715\n"
     ]
    }
   ],
   "source": [
    "# Training the model\n",
    "adaboost_model.fit(x_train_scaled, y_train)\n",
    "\n",
    "# Predicting the test set results\n",
    "y_pred = adaboost_model.predict(x_test_scaled)\n",
    "\n",
    "# Calculating regression metrics\n",
    "mse = mean_squared_error(y_test, y_pred)\n",
    "mae = mean_absolute_error(y_test, y_pred)\n",
    "r2 = r2_score(y_test, y_pred)\n",
    "accuracy = adaboost_model.score(x_test_scaled, y_test)\n",
    "\n",
    "# Printing the metrics\n",
    "print(\"Accuracy Score of Ada Boost Regressor model :\", accuracy)\n",
    "print(\"Mean Squared Error (MSE) of Ada Boost Regressor model:\", mse)\n",
    "print(\"Mean Absolute Error (MAE) of Ada Boost Regressor model:\", mae)\n",
    "print(\"R^2 Score of Ada Boost Regressor model:\", r2)\n"
   ]
  },
  {
   "cell_type": "raw",
   "id": "1d410d3a-e104-41d3-97be-a5a7bb3c1999",
   "metadata": {},
   "source": []
  },
  {
   "cell_type": "markdown",
   "id": "6d975a9f-9ca3-41b8-b899-d6b159a146b7",
   "metadata": {},
   "source": [
    "## USING GRADIENT BOOST OF BOOSTING ALGORITHMS"
   ]
  },
  {
   "cell_type": "code",
   "execution_count": 71,
   "id": "079befd1-370d-4ccb-8604-d206996dcf99",
   "metadata": {},
   "outputs": [],
   "source": [
    "# importing GradientBoostingRegressor algorithm\n",
    "from sklearn.ensemble import GradientBoostingRegressor\n",
    "gradientboost_model = GradientBoostingRegressor(n_estimators = 50, random_state = 42)\n",
    "# (n_estimators = 50): the gradient boosting model will go through 50 iterations, \n",
    "# adding 50 weak learners to improve the model's predictions."
   ]
  },
  {
   "cell_type": "code",
   "execution_count": 73,
   "id": "60f80a3b-a5dd-4692-9e6b-6f60d51433b5",
   "metadata": {},
   "outputs": [
    {
     "name": "stdout",
     "output_type": "stream",
     "text": [
      "Accuracy Score of Gradient Boosting Regressor model : 0.9616436016118523\n",
      "Mean Squared Error (MSE) of Gradient Boosting Regressor model: 609744.8166897666\n",
      "Mean Absolute Error (MAE) of Gradient Boosting Regressor model: 439.88303464424035\n",
      "R^2 Score of Gradient Boosting Regressor model: 0.9616436016118523\n"
     ]
    }
   ],
   "source": [
    "# Training the model\n",
    "gradientboost_model.fit(x_train_scaled, y_train)\n",
    "\n",
    "# Predicting the test set results\n",
    "y_pred = gradientboost_model.predict(x_test_scaled)\n",
    "\n",
    "# Calculating regression metrics\n",
    "mse = mean_squared_error(y_test, y_pred)\n",
    "mae = mean_absolute_error(y_test, y_pred)\n",
    "r2 = r2_score(y_test, y_pred)\n",
    "accuracy = gradientboost_model.score(x_test_scaled, y_test)\n",
    "\n",
    "# Printing the metrics\n",
    "print(\"Accuracy Score of Gradient Boosting Regressor model :\", accuracy)\n",
    "print(\"Mean Squared Error (MSE) of Gradient Boosting Regressor model:\", mse)\n",
    "print(\"Mean Absolute Error (MAE) of Gradient Boosting Regressor model:\", mae)\n",
    "print(\"R^2 Score of Gradient Boosting Regressor model:\", r2)\n"
   ]
  },
  {
   "cell_type": "raw",
   "id": "e5c68e85-7ca0-49cd-8013-aec54cb262ce",
   "metadata": {},
   "source": []
  },
  {
   "cell_type": "markdown",
   "id": "71ca955d-f98c-4067-b9fd-e5311795f19e",
   "metadata": {},
   "source": [
    "## therefore the Best Model is RANDOM FOREST REGRESSOR ALGORITHM = 98 %"
   ]
  },
  {
   "cell_type": "raw",
   "id": "b63c104d-37a3-404b-bbb1-a89f2c1d50d1",
   "metadata": {},
   "source": [
    "The rfr_model (Random Forest regressor) model's accuracy keeps on fluctating back and forth from 97% to 98% every time the code gets executed, accuracy depends on the training dataset."
   ]
  },
  {
   "cell_type": "raw",
   "id": "25908bbe-ec89-4d47-9cfa-a2e0629c9486",
   "metadata": {},
   "source": []
  },
  {
   "cell_type": "markdown",
   "id": "5b23834f-b72b-45f6-b80a-e2be1a27ae22",
   "metadata": {},
   "source": [
    "## SAVING THE RANDOM FOREST REGRESSOR ALGORITHM MODEL INTO PICKLE FILE"
   ]
  },
  {
   "cell_type": "code",
   "execution_count": 51,
   "id": "1e4467d8-d613-410c-9141-fc9518821861",
   "metadata": {},
   "outputs": [],
   "source": [
    "# used to import pickle tool and os module\n",
    "import pickle \n",
    "import os \n",
    "\n",
    "\n",
    "model_file_name = \"rfr_best_model.pkl\" # name of the file where the Random Forest Regressor (RFR) model is saved\n",
    "# using the .pkl extension which stands for \"Pickle\"\n",
    "\n",
    "\n",
    "model_folder = \"./models/\" # the path to the folder where the model file is stored\n",
    "# './' part indicates that the folder is in the current working directory\n",
    "# \"models/\" is the name of the folder.\n",
    "\n",
    "# Create the directory if doesn't exist\n",
    "os.makedirs(model_folder, exist_ok = True)\n",
    "\n",
    "# save the model using pickle\n",
    "with open(os.path.join(model_folder,model_file_name), \"wb\") as file:\n",
    "    pickle.dump(rfr_model, file)"
   ]
  },
  {
   "cell_type": "code",
   "execution_count": 53,
   "id": "4410cbbd-fab8-401e-9e79-4249eab8b817",
   "metadata": {},
   "outputs": [],
   "source": [
    "# load the rfr model \n",
    "with open(os.path.join(model_folder, model_file_name), \"rb\") as file:\n",
    "    load_rfr_model = pickle.load(file)"
   ]
  },
  {
   "cell_type": "raw",
   "id": "8d77958f-cb1d-443a-936e-288e11a2f021",
   "metadata": {},
   "source": []
  },
  {
   "cell_type": "code",
   "execution_count": 55,
   "id": "7e36cd5f-bfdc-45d7-b2c1-b45e5a16a8cf",
   "metadata": {},
   "outputs": [
    {
     "name": "stdin",
     "output_type": "stream",
     "text": [
      "Enter carat of diamond (weight) :  2.00\n",
      "Enter Cut of diamond(FAIR = 0 , GOOD = 1, IDEAL = 2, PREMIUM = 3, VERY GOOD = 4) :  0\n",
      "Enter color of diamond (D = 0, J = 6) :  1\n",
      "Enter clarity of diamond (0-7) :  1\n",
      "Enter depth of diamond(mm) (Decimal value) :  2.25\n",
      "Enter table diameter(mm) (whole number) :  55\n",
      "Enter x dimension(mm) (Decimal value) :  3.25\n",
      "Enter y dimension(mm) (Decimal value):  4.22\n",
      "Enter z dimension(mm) (Decimal value):  5.21\n"
     ]
    },
    {
     "name": "stdout",
     "output_type": "stream",
     "text": [
      "Estimate price : $14965\n"
     ]
    }
   ],
   "source": [
    "# used to import numpy library\n",
    "import numpy as np\n",
    "def make_prediction(carat, cut, color, clarity, depth, table, x, y, z):\n",
    "    # load the pre-trained Random Forest Regressor : model\n",
    "    with open(os.path.join(model_folder, model_file_name), \"rb\") as file:\n",
    "        load_rfr_model = pickle.load(file)\n",
    "\n",
    "    # prepare the input data\n",
    "    input_data = np.array([[carat, cut, color, clarity, depth, table, x, y, z]])\n",
    "\n",
    "    # Make prediction using loaded Random Forest Regressor model\n",
    "    prediction = load_rfr_model.predict(input_data)\n",
    "\n",
    "    # Format the prediction result\n",
    "    final_info = \"Estimate price : ${:d}\".format(int(prediction[0]))\n",
    "\n",
    "    return final_info\n",
    "\n",
    "# user input\n",
    "carat = float(input(\"Enter carat of diamond (weight) : \")) # carat/ weight of diamonds\n",
    "cut = int(input(\"Enter Cut of diamond(FAIR = 0 , GOOD = 1, IDEAL = 2, PREMIUM = 3, VERY GOOD = 4) : \")) # cut of diamonds\n",
    "color = int(input(\"Enter color of diamond (D = 0, J = 6) : \")) # color grade (D - High Quality, Z - Low Quality)\n",
    "clarity = int(input(\"Enter clarity of diamond (0-7) : \")) # clarity grade (FL - High Quality, I3 - Low Quality) \n",
    "depth = float(input(\"Enter depth of diamond(mm) (Decimal value) : \")) # Depth of diamond from table to culet of diamond\n",
    "table = int(input(\"Enter table diameter(mm) (whole number) : \")) # table diameter of diamond\n",
    "x = float(input(\"Enter x dimension(mm) (Decimal value) : \")) # dimension of diamond\n",
    "y = float(input(\"Enter y dimension(mm) (Decimal value): \")) # dimension of diamond\n",
    "z = float(input(\"Enter z dimension(mm) (Decimal value): \")) # dimension of diamond\n",
    "\n",
    "print(make_prediction(carat, cut, color, clarity, depth, table, x, y, z))"
   ]
  },
  {
   "cell_type": "raw",
   "id": "3293bc92-511a-42a0-86cd-19353ac4341a",
   "metadata": {},
   "source": [
    "                                                 GUIDE : USER INPUT VALUES\n",
    "\n",
    "# carat 0.00 - infinite decimals\n",
    "\n",
    "# CUT GRADE\n",
    " 0 - Fair          \n",
    " 1 - Good          \n",
    " 2 - Ideal\n",
    " 3 - Premium\n",
    " 4 - Very Good\n",
    "\n",
    "# COLOR GRADE\n",
    " 0 - D\n",
    " 1 - E\n",
    " 2 - F\n",
    " 3 - G\n",
    " 4 - H\n",
    " 5 - I\n",
    " 6 - J\n",
    "\n",
    "# CLARITY GRADE\n",
    " 0 - I1 \n",
    " 1 - IF\n",
    " 2 - SI1  \n",
    " 3 - SI2 \n",
    " 4 - VS1 \n",
    " 5 - VS2\n",
    " 6 - VVS1 \n",
    " 7 - VVS2"
   ]
  },
  {
   "cell_type": "markdown",
   "id": "2b65c1b1-4949-4856-8859-19f80130a1d8",
   "metadata": {},
   "source": [
    "## BUILD GRADIO APP - USER INTERFACE"
   ]
  },
  {
   "cell_type": "code",
   "execution_count": 57,
   "id": "6922aad8-1054-421e-a21d-c2a61312465a",
   "metadata": {},
   "outputs": [],
   "source": [
    "# used to import the Gradio library\n",
    "import gradio as gr"
   ]
  },
  {
   "cell_type": "code",
   "execution_count": 58,
   "id": "dbfe3915-e39f-47dc-98c4-e42746c380c6",
   "metadata": {},
   "outputs": [
    {
     "name": "stdout",
     "output_type": "stream",
     "text": [
      "* Running on local URL:  http://127.0.0.1:7860\n",
      "* Running on public URL: https://fbf1585ab3e45b5163.gradio.live\n",
      "\n",
      "This share link expires in 72 hours. For free permanent hosting and GPU upgrades, run `gradio deploy` from the terminal in the working directory to deploy to Hugging Face Spaces (https://huggingface.co/spaces)\n"
     ]
    },
    {
     "data": {
      "text/html": [
       "<div><iframe src=\"https://fbf1585ab3e45b5163.gradio.live\" width=\"100%\" height=\"500\" allow=\"autoplay; camera; microphone; clipboard-read; clipboard-write;\" frameborder=\"0\" allowfullscreen></iframe></div>"
      ],
      "text/plain": [
       "<IPython.core.display.HTML object>"
      ]
     },
     "metadata": {},
     "output_type": "display_data"
    },
    {
     "data": {
      "text/plain": []
     },
     "execution_count": 58,
     "metadata": {},
     "output_type": "execute_result"
    }
   ],
   "source": [
    "# title for the interface\n",
    "headline = \" DIAMOND PRICE FORECASTER\" # displayed at the top of the Gradio interface\n",
    "\n",
    "iface = gr.Interface(fn = make_prediction, # an instance of the Gradio Interface class\n",
    "                     inputs = [\n",
    "                         # creating a numeric input field, label used for labeling the user input\n",
    "                         gr.Number(label = \"Carat of diamond (weight)\"),\n",
    "                         gr.Number(label = \"Cut (FAIR = 0 , GOOD = 1, IDEAL = 2, PREMIUM = 3, VERY GOOD = 4)\"),\n",
    "                         gr.Number(label = \"Color Grade(D = 0, J = 6)\"),\n",
    "                         gr.Number(label = \"Clarity Grade(0-7)\"),\n",
    "                         gr.Number(label = \"Depth of Diamond(mm) (Decimal value)\"),\n",
    "                         gr.Number(label = \"Table Diameter(mm) (Whole value))\"),\n",
    "                         gr.Number(label = \"Dimension X (mm) (Decimal value)\"),\n",
    "                         gr.Number(label = \"Dimension Y (mm) (Decimal value)\"),\n",
    "                         gr.Number(label = \"Dimension Z (mm) (Decimal value)\")],\n",
    "                     outputs = gr.Textbox(label = \"Predicted Price\"), # used to display text output\n",
    "                     title = headline) # title of the user interface\n",
    "\n",
    "# \"fn\" parameter specifies the function to be called (make_prediction)\n",
    "# inputs and outputs define the types and labels of the input and output components.\n",
    "                         \n",
    "iface.launch(share = True) # used to start the Gradio interface and make it accessible\n",
    "# iface.launch(): This method launches the Gradio interface, making it available for interaction. \n",
    "# It starts a local server that hosts your interface.\n",
    "\n",
    "# (share = True): This parameter allows you to generate a public, shareable link to your interface. \n",
    "# (share = False): If you don't need a shareable link and only want to use the interface locally."
   ]
  },
  {
   "cell_type": "code",
   "execution_count": null,
   "id": "dabf98e3-0c5d-45dc-addf-181da5a16be5",
   "metadata": {},
   "outputs": [],
   "source": [
    "# in the above format generate code for regression supervised learning,\n",
    "# by asking user input (carat, cut, color, clarity, depth, table, x, y, z)\n",
    "# where ( carat, depth, table, x, y, z) are float datatype\n",
    "# and (cut, color, clarity) are integer ranging from 1 to 5\n",
    "# and predicting price as an integer using an randaom forest regressor model that is saved used in an pickle .\n",
    "# generate def function code refering the table image given"
   ]
  },
  {
   "cell_type": "code",
   "execution_count": null,
   "id": "13f8884c-0883-4c5b-863c-acd0932493df",
   "metadata": {},
   "outputs": [],
   "source": []
  }
 ],
 "metadata": {
  "kernelspec": {
   "display_name": "Python 3 (ipykernel)",
   "language": "python",
   "name": "python3"
  },
  "language_info": {
   "codemirror_mode": {
    "name": "ipython",
    "version": 3
   },
   "file_extension": ".py",
   "mimetype": "text/x-python",
   "name": "python",
   "nbconvert_exporter": "python",
   "pygments_lexer": "ipython3",
   "version": "3.12.4"
  }
 },
 "nbformat": 4,
 "nbformat_minor": 5
}
